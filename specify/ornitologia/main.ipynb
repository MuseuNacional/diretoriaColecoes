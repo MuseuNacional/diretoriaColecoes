{
 "cells": [
  {
   "attachments": {},
   "cell_type": "markdown",
   "metadata": {},
   "source": [
    "Instalando pacotes"
   ]
  },
  {
   "cell_type": "code",
   "execution_count": 1,
   "metadata": {},
   "outputs": [],
   "source": [
    "import pandas as pd\n",
    "import fuzzymatcher\n",
    "from fuzzywuzzy import fuzz\n",
    "from fuzzywuzzy import process"
   ]
  },
  {
   "attachments": {},
   "cell_type": "markdown",
   "metadata": {},
   "source": [
    "Criando planilha de coletores unicos"
   ]
  },
  {
   "cell_type": "code",
   "execution_count": 2,
   "metadata": {},
   "outputs": [],
   "source": [
    "df = pd.read_excel('datas_novas.xlsx')\n",
    "valores = df['COLETOR'].unique()"
   ]
  },
  {
   "cell_type": "code",
   "execution_count": 8,
   "metadata": {},
   "outputs": [],
   "source": [
    "unicos = pd.read_excel('Coletores_unicos.xlsx')"
   ]
  },
  {
   "cell_type": "code",
   "execution_count": 13,
   "metadata": {},
   "outputs": [],
   "source": [
    "valores = pd.ExcelWriter('Coletores_unicos.xlsx')"
   ]
  },
  {
   "cell_type": "code",
   "execution_count": 16,
   "metadata": {},
   "outputs": [],
   "source": [
    "coletores = pd.DataFrame(valores)"
   ]
  },
  {
   "cell_type": "code",
   "execution_count": 18,
   "metadata": {},
   "outputs": [],
   "source": [
    "coletores.to_excel('Coletores_unicos.xlsx')"
   ]
  },
  {
   "attachments": {},
   "cell_type": "markdown",
   "metadata": {},
   "source": [
    "Separando os coletores da coluna"
   ]
  },
  {
   "cell_type": "code",
   "execution_count": 21,
   "metadata": {},
   "outputs": [],
   "source": [
    "df = pd.read_excel('Coletores_unicos.xlsx')"
   ]
  },
  {
   "cell_type": "code",
   "execution_count": 22,
   "metadata": {},
   "outputs": [],
   "source": [
    "df['Coletores_separados'] = df['Coletores'].str.split('&|/')"
   ]
  },
  {
   "cell_type": "code",
   "execution_count": 23,
   "metadata": {},
   "outputs": [
    {
     "name": "stdout",
     "output_type": "stream",
     "text": [
      "         0               Coletores       Coletores_separados\n",
      "0        1  Sander e Scherrer-Neto  [Sander e Scherrer-Neto]\n",
      "1        2               Nacinovic               [Nacinovic]\n",
      "2        3                  Hoehne                  [Hoehne]\n",
      "3        4         Jorge Nacinovic         [Jorge Nacinovic]\n",
      "4        5   Mariano Camboin Filho   [Mariano Camboin Filho]\n",
      "...    ...                     ...                       ...\n",
      "1800  1801    Luís Augusto Caetano    [Luís Augusto Caetano]\n",
      "1801  1802               L. Bautin               [L. Bautin]\n",
      "1802  1803        Bourleigh, T. D.        [Bourleigh, T. D.]\n",
      "1803  1804                C. Silva                [C. Silva]\n",
      "1804  1805          T. D. Burleigh          [T. D. Burleigh]\n",
      "\n",
      "[1805 rows x 3 columns]\n"
     ]
    }
   ],
   "source": [
    "print(df)"
   ]
  },
  {
   "cell_type": "code",
   "execution_count": 29,
   "metadata": {},
   "outputs": [],
   "source": [
    "x = pd.ExcelWriter('Coletores_separados.xlsx') "
   ]
  },
  {
   "cell_type": "code",
   "execution_count": 31,
   "metadata": {},
   "outputs": [],
   "source": [
    "variavel = pd.DataFrame(df['Coletores_separados'])"
   ]
  },
  {
   "cell_type": "code",
   "execution_count": null,
   "metadata": {},
   "outputs": [],
   "source": [
    "variavel.to_excel('Coletores_separados.xlsx')"
   ]
  }
 ],
 "metadata": {
  "kernelspec": {
   "display_name": "venv",
   "language": "python",
   "name": "python3"
  },
  "language_info": {
   "codemirror_mode": {
    "name": "ipython",
    "version": 3
   },
   "file_extension": ".py",
   "mimetype": "text/x-python",
   "name": "python",
   "nbconvert_exporter": "python",
   "pygments_lexer": "ipython3",
   "version": "3.11.2"
  },
  "orig_nbformat": 4
 },
 "nbformat": 4,
 "nbformat_minor": 2
}
